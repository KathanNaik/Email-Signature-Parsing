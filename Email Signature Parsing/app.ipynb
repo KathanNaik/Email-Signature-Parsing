{
 "cells": [
  {
   "cell_type": "code",
   "execution_count": 1,
   "id": "ba0c8ba9",
   "metadata": {},
   "outputs": [],
   "source": [
    "import json\n",
    "import openai"
   ]
  },
  {
   "cell_type": "markdown",
   "id": "a686e82c",
   "metadata": {},
   "source": [
    "Creating Flask App"
   ]
  },
  {
   "cell_type": "code",
   "execution_count": 2,
   "id": "1fe07e42",
   "metadata": {},
   "outputs": [],
   "source": [
    "from flask import Flask, redirect, url_for, request, Response\n",
    "from flask_mail import Mail, Message \n",
    "\n",
    "app = Flask(__name__)\n",
    "\n",
    "@app.route(\"/\")\n",
    "def home():\n",
    "    return 'Kathan Here!'"
   ]
  },
  {
   "cell_type": "markdown",
   "id": "4d9a0595",
   "metadata": {},
   "source": [
    "Reading Email Credentials"
   ]
  },
  {
   "cell_type": "code",
   "execution_count": 3,
   "id": "ada903cb",
   "metadata": {},
   "outputs": [
    {
     "name": "stdout",
     "output_type": "stream",
     "text": [
      "{'email_address': 'kathan.naik@aethereus.com', 'email_password': 'Bits@20074985'}\n"
     ]
    }
   ],
   "source": [
    "f = open(\"email_cred.json\", \"r\")\n",
    "\n",
    "cred = json.load(f)\n",
    "\n",
    "email_address = cred.get(\"email_address\")\n",
    "email_password = cred.get(\"email_password\")\n",
    "\n",
    "print(cred);"
   ]
  },
  {
   "cell_type": "markdown",
   "id": "b8292282",
   "metadata": {},
   "source": [
    "Setting Email Config"
   ]
  },
  {
   "cell_type": "code",
   "execution_count": 4,
   "id": "f3742262",
   "metadata": {},
   "outputs": [],
   "source": [
    "app.config['MAIL_SERVER']='smtp.office365.com'\n",
    "app.config['MAIL_PORT'] = 587\n",
    "app.config['MAIL_USERNAME'] = email_address\n",
    "app.config['MAIL_PASSWORD'] = email_password\n",
    "app.config['MAIL_USE_TLS'] = True\n",
    "app.config['MAIL_USE_SSL'] = False\n",
    "mail = Mail(app)"
   ]
  },
  {
   "cell_type": "markdown",
   "id": "0d166bd3",
   "metadata": {},
   "source": [
    "Reading Pulze Keys"
   ]
  },
  {
   "cell_type": "code",
   "execution_count": 5,
   "id": "adc260f2",
   "metadata": {},
   "outputs": [],
   "source": [
    "f = open(\"key.txt\", \"r\")\n",
    "\n",
    "openai.api_key = f.readline()\n",
    "openai.api_base = \"https://api.pulze.ai/v1\"\n",
    "\n",
    "f.close()"
   ]
  },
  {
   "cell_type": "markdown",
   "id": "4984f6aa",
   "metadata": {},
   "source": [
    "Defining System Instruction"
   ]
  },
  {
   "cell_type": "code",
   "execution_count": 6,
   "id": "15307c35",
   "metadata": {},
   "outputs": [],
   "source": [
    "instructiones = '''User will give an email text as message content. Your task is to retrive email signature from that email. You should follow below steps \n",
    "1) figure out the name of person sending the mail\n",
    "2) find the name of the organization or company the person belongs to if mentioned any\n",
    "3) check if there is an mobile number the person writing email might have given\n",
    "4) return the response message content in JSON like format as below\n",
    "    {\n",
    "        \"name\": \"name that you have figured out\"\n",
    "        \"org\": \"organization/company\"\n",
    "        \"number\": mobile number found\n",
    "    }\n",
    "5) you can keep fields empty by putting 'NULL' if you do not find any of them'''"
   ]
  },
  {
   "cell_type": "markdown",
   "id": "236417aa",
   "metadata": {},
   "source": [
    "Function to Call Pulze API"
   ]
  },
  {
   "cell_type": "markdown",
   "id": "41dacbce",
   "metadata": {},
   "source": [
    "1) Signature Parsing Call"
   ]
  },
  {
   "cell_type": "code",
   "execution_count": 7,
   "id": "90f32253",
   "metadata": {},
   "outputs": [],
   "source": [
    "def pulze_llm(mail):\n",
    "    chat_response = openai.ChatCompletion.create(\n",
    "        model=\"pulze-v0\",\n",
    "        max_tokens=100,\n",
    "        messages=[\n",
    "            {\"role\": \"system\", \"content\": instructiones},\n",
    "            {\"role\": \"user\", \"content\": mail}\n",
    "        ],\n",
    "    )\n",
    "\n",
    "    print(chat_response)\n",
    "    return chat_response.choices[0].message.content"
   ]
  },
  {
   "cell_type": "markdown",
   "id": "1a2b452d",
   "metadata": {},
   "source": [
    "2) Product Parsing Call"
   ]
  },
  {
   "cell_type": "code",
   "execution_count": 8,
   "id": "936997bc",
   "metadata": {},
   "outputs": [],
   "source": [
    "def pulze_llm_p(mail, list):\n",
    "    \n",
    "    listMsg = (\n",
    "        '''Given is the list of product name and their description separated by an equal to/= sign'''\n",
    "            \n",
    "        + list + \n",
    "            \n",
    "        '''\n",
    "        1) Your task is to figure out if the user has mentioned any of the products in their message.\n",
    "        2) Return the name of the product in JSON format as below:\n",
    "        {\n",
    "            \"product\": \"the product\" \n",
    "        }\n",
    "        4) Strictly include only one product name given in the list as the product.\n",
    "        3) You can keep fields empty by putting 'NULL' if you do not find any of them.\n",
    "        '''\n",
    "    )\n",
    "    \n",
    "    chat_response = openai.ChatCompletion.create(\n",
    "        \n",
    "        model=\"pulze-v0\",\n",
    "        max_tokens=100,\n",
    "        messages=[\n",
    "            {\"role\": \"system\", \"content\": listMsg},\n",
    "            {\"role\": \"user\", \"content\": mail}\n",
    "        ],\n",
    "    )\n",
    "\n",
    "    print(chat_response)\n",
    "    return chat_response.choices[0].message.content"
   ]
  },
  {
   "cell_type": "markdown",
   "id": "95b4138f",
   "metadata": {},
   "source": [
    "POST Request Handlers"
   ]
  },
  {
   "cell_type": "markdown",
   "id": "2afd170d",
   "metadata": {},
   "source": [
    "1) Signature Parsing"
   ]
  },
  {
   "cell_type": "code",
   "execution_count": 9,
   "id": "e0c736a2",
   "metadata": {},
   "outputs": [],
   "source": [
    "@app.route(\"/mailpost\", methods=[\"POST\"])\n",
    "def signatureParsing():\n",
    "    if request.method == \"POST\":\n",
    "        user_address = request.form[\"address\"]\n",
    "        user_email = request.form[\"email\"]\n",
    "        access_password = request.form[\"password\"]\n",
    "        \n",
    "        if(access_password == \"Aethereus@123\"):\n",
    "            msg = Message( \n",
    "                'Email-Conformation', \n",
    "                sender = email_address, \n",
    "                recipients = [user_address] \n",
    "               ) \n",
    "            msg.body = 'A case has been raised based on your email and our team will be contacting you soon. Thank you for reaching out!'\n",
    "            mail.send(msg) \n",
    "            \n",
    "            r = Response(response=pulze_llm(user_email), status=200, mimetype=\"application/json\")\n",
    "            r.headers[\"Content-Type\"] = \"application/json; charset=utf-8\"\n",
    "            return r\n",
    "        else:\n",
    "            return \"invalid request\""
   ]
  },
  {
   "cell_type": "markdown",
   "id": "280c6eb0",
   "metadata": {},
   "source": [
    "2) Product Parsing"
   ]
  },
  {
   "cell_type": "code",
   "execution_count": 10,
   "id": "15a245ce",
   "metadata": {},
   "outputs": [],
   "source": [
    "@app.route(\"/product\", methods=[\"POST\"])\n",
    "def productParsing():\n",
    "    if request.method == \"POST\":\n",
    "        user_email = request.form[\"email\"]\n",
    "        product_list = request.form[\"products\"]\n",
    "        access_password = request.form[\"password\"]\n",
    "        \n",
    "        if(access_password == \"Aethereus@123\"):\n",
    "            \n",
    "            r = Response(response=pulze_llm_p(user_email, product_list), status=200, mimetype=\"application/json\")\n",
    "            r.headers[\"Content-Type\"] = \"application/json; charset=utf-8\"\n",
    "            return r\n",
    "        else:\n",
    "            return \"invalid request\""
   ]
  },
  {
   "cell_type": "markdown",
   "id": "08bec197",
   "metadata": {},
   "source": [
    "Running the App"
   ]
  },
  {
   "cell_type": "code",
   "execution_count": null,
   "id": "c4f6b597",
   "metadata": {},
   "outputs": [
    {
     "name": "stdout",
     "output_type": "stream",
     "text": [
      " * Serving Flask app '__main__'\n",
      " * Debug mode: off\n"
     ]
    },
    {
     "name": "stderr",
     "output_type": "stream",
     "text": [
      "WARNING: This is a development server. Do not use it in a production deployment. Use a production WSGI server instead.\n",
      " * Running on http://localhost:8080\n",
      "Press CTRL+C to quit\n",
      "127.0.0.1 - - [13/Nov/2023 15:23:48] \"POST /product HTTP/1.1\" 200 -\n"
     ]
    },
    {
     "name": "stdout",
     "output_type": "stream",
     "text": [
      "{\n",
      "  \"choices\": [\n",
      "    {\n",
      "      \"finish_reason\": \"stop\",\n",
      "      \"index\": 0,\n",
      "      \"message\": {\n",
      "        \"content\": \"{\\n    \\\"product\\\": \\\"rose\\\"\\n}\",\n",
      "        \"role\": \"assistant\"\n",
      "      }\n",
      "    }\n",
      "  ],\n",
      "  \"created\": 1699869080513,\n",
      "  \"id\": \"2cb1b12a-9c4e-4242-b0aa-5bd56a6d6352\",\n",
      "  \"metadata\": {\n",
      "    \"app_id\": \"f05910bc-7f61-4623-b323-4f7981526ecc\",\n",
      "    \"category\": \"Education & Learning\",\n",
      "    \"cost_savings\": {\n",
      "      \"completion_tokens\": 0.000522,\n",
      "      \"prompt_tokens\": 0.024824,\n",
      "      \"total_tokens\": 0.025346\n",
      "    },\n",
      "    \"costs\": {\n",
      "      \"completion_tokens\": 1.8e-05,\n",
      "      \"prompt_tokens\": 0.000856,\n",
      "      \"total_tokens\": 0.000874\n",
      "    },\n",
      "    \"latency\": 0.823,\n",
      "    \"max_tokens\": 100,\n",
      "    \"model\": {\n",
      "      \"model\": \"gpt-3.5-turbo\",\n",
      "      \"namespace\": \"openai/gpt-3.5-turbo\",\n",
      "      \"provider\": \"openai\"\n",
      "    },\n",
      "    \"retries\": 0,\n",
      "    \"score\": 0.333,\n",
      "    \"scores\": {\n",
      "      \"best_models\": [\n",
      "        {\n",
      "          \"openai/gpt-3.5-turbo\": 0.333\n",
      "        },\n",
      "        {\n",
      "          \"mosaicml/llama2-70b-chat\": 0.316\n",
      "        }\n",
      "      ]\n",
      "    },\n",
      "    \"status_code\": 200,\n",
      "    \"temperature\": 1.0\n",
      "  },\n",
      "  \"model\": \"openai/gpt-3.5-turbo\",\n",
      "  \"object\": \"chat.completion\",\n",
      "  \"usage\": {\n",
      "    \"completion_tokens\": 9.0,\n",
      "    \"prompt_tokens\": 428.0,\n",
      "    \"total_tokens\": 437.0\n",
      "  }\n",
      "}\n"
     ]
    },
    {
     "name": "stderr",
     "output_type": "stream",
     "text": [
      "127.0.0.1 - - [13/Nov/2023 15:24:06] \"POST /product HTTP/1.1\" 200 -\n"
     ]
    },
    {
     "name": "stdout",
     "output_type": "stream",
     "text": [
      "{\n",
      "  \"choices\": [\n",
      "    {\n",
      "      \"finish_reason\": \"stop\",\n",
      "      \"index\": 0,\n",
      "      \"message\": {\n",
      "        \"content\": \"{\\n   \\\"product\\\": \\\"NULL\\\"\\n}\",\n",
      "        \"role\": \"assistant\"\n",
      "      }\n",
      "    }\n",
      "  ],\n",
      "  \"created\": 1699869097970,\n",
      "  \"id\": \"335eba7b-fa4d-426d-bbcc-dab1508f8408\",\n",
      "  \"metadata\": {\n",
      "    \"app_id\": \"f05910bc-7f61-4623-b323-4f7981526ecc\",\n",
      "    \"category\": \"Education & Learning\",\n",
      "    \"cost_savings\": {\n",
      "      \"completion_tokens\": 0.000522,\n",
      "      \"prompt_tokens\": 0.024766,\n",
      "      \"total_tokens\": 0.025288\n",
      "    },\n",
      "    \"costs\": {\n",
      "      \"completion_tokens\": 1.8e-05,\n",
      "      \"prompt_tokens\": 0.000854,\n",
      "      \"total_tokens\": 0.000872\n",
      "    },\n",
      "    \"latency\": 0.701,\n",
      "    \"max_tokens\": 100,\n",
      "    \"model\": {\n",
      "      \"model\": \"gpt-3.5-turbo\",\n",
      "      \"namespace\": \"openai/gpt-3.5-turbo\",\n",
      "      \"provider\": \"openai\"\n",
      "    },\n",
      "    \"retries\": 0,\n",
      "    \"score\": 0.333,\n",
      "    \"scores\": {\n",
      "      \"best_models\": [\n",
      "        {\n",
      "          \"openai/gpt-3.5-turbo\": 0.333\n",
      "        },\n",
      "        {\n",
      "          \"mosaicml/llama2-70b-chat\": 0.316\n",
      "        }\n",
      "      ]\n",
      "    },\n",
      "    \"status_code\": 200,\n",
      "    \"temperature\": 1.0\n",
      "  },\n",
      "  \"model\": \"openai/gpt-3.5-turbo\",\n",
      "  \"object\": \"chat.completion\",\n",
      "  \"usage\": {\n",
      "    \"completion_tokens\": 9.0,\n",
      "    \"prompt_tokens\": 427.0,\n",
      "    \"total_tokens\": 436.0\n",
      "  }\n",
      "}\n"
     ]
    },
    {
     "name": "stderr",
     "output_type": "stream",
     "text": [
      "127.0.0.1 - - [13/Nov/2023 15:24:10] \"POST /product HTTP/1.1\" 200 -\n"
     ]
    },
    {
     "name": "stdout",
     "output_type": "stream",
     "text": [
      "{\n",
      "  \"choices\": [\n",
      "    {\n",
      "      \"finish_reason\": \"stop\",\n",
      "      \"index\": 0,\n",
      "      \"message\": {\n",
      "        \"content\": \"{\\n    \\\"product\\\": \\\"rose\\\"\\n}\",\n",
      "        \"role\": \"assistant\"\n",
      "      }\n",
      "    }\n",
      "  ],\n",
      "  \"created\": 1699869102715,\n",
      "  \"id\": \"f257a540-3935-4dbc-a941-06f3099e49de\",\n",
      "  \"metadata\": {\n",
      "    \"app_id\": \"f05910bc-7f61-4623-b323-4f7981526ecc\",\n",
      "    \"category\": \"Education & Learning\",\n",
      "    \"cost_savings\": {\n",
      "      \"completion_tokens\": 0.000522,\n",
      "      \"prompt_tokens\": 0.024766,\n",
      "      \"total_tokens\": 0.025288\n",
      "    },\n",
      "    \"costs\": {\n",
      "      \"completion_tokens\": 1.8e-05,\n",
      "      \"prompt_tokens\": 0.000854,\n",
      "      \"total_tokens\": 0.000872\n",
      "    },\n",
      "    \"latency\": 0.507,\n",
      "    \"max_tokens\": 100,\n",
      "    \"model\": {\n",
      "      \"model\": \"gpt-3.5-turbo\",\n",
      "      \"namespace\": \"openai/gpt-3.5-turbo\",\n",
      "      \"provider\": \"openai\"\n",
      "    },\n",
      "    \"retries\": 0,\n",
      "    \"score\": 0.333,\n",
      "    \"scores\": {\n",
      "      \"best_models\": [\n",
      "        {\n",
      "          \"openai/gpt-3.5-turbo\": 0.333\n",
      "        },\n",
      "        {\n",
      "          \"mosaicml/llama2-70b-chat\": 0.316\n",
      "        }\n",
      "      ]\n",
      "    },\n",
      "    \"status_code\": 200,\n",
      "    \"temperature\": 1.0\n",
      "  },\n",
      "  \"model\": \"openai/gpt-3.5-turbo\",\n",
      "  \"object\": \"chat.completion\",\n",
      "  \"usage\": {\n",
      "    \"completion_tokens\": 9.0,\n",
      "    \"prompt_tokens\": 427.0,\n",
      "    \"total_tokens\": 436.0\n",
      "  }\n",
      "}\n"
     ]
    },
    {
     "name": "stderr",
     "output_type": "stream",
     "text": [
      "127.0.0.1 - - [13/Nov/2023 16:18:19] \"POST /product HTTP/1.1\" 200 -\n"
     ]
    },
    {
     "name": "stdout",
     "output_type": "stream",
     "text": [
      "{\n",
      "  \"choices\": [\n",
      "    {\n",
      "      \"finish_reason\": \"stop\",\n",
      "      \"index\": 0,\n",
      "      \"message\": {\n",
      "        \"content\": \"{\\n    \\\"product\\\": \\\"rose\\\"\\n}\",\n",
      "        \"role\": \"assistant\"\n",
      "      }\n",
      "    }\n",
      "  ],\n",
      "  \"created\": 1699872351281,\n",
      "  \"id\": \"18ee6bfc-b3c6-4d59-b9ae-3cbe6e0a10de\",\n",
      "  \"metadata\": {\n",
      "    \"app_id\": \"f05910bc-7f61-4623-b323-4f7981526ecc\",\n",
      "    \"category\": \"Education & Learning\",\n",
      "    \"cost_savings\": {\n",
      "      \"completion_tokens\": 0.000522,\n",
      "      \"prompt_tokens\": 0.024766,\n",
      "      \"total_tokens\": 0.025288\n",
      "    },\n",
      "    \"costs\": {\n",
      "      \"completion_tokens\": 1.8e-05,\n",
      "      \"prompt_tokens\": 0.000854,\n",
      "      \"total_tokens\": 0.000872\n",
      "    },\n",
      "    \"latency\": 0.8,\n",
      "    \"max_tokens\": 100,\n",
      "    \"model\": {\n",
      "      \"model\": \"gpt-3.5-turbo\",\n",
      "      \"namespace\": \"openai/gpt-3.5-turbo\",\n",
      "      \"provider\": \"openai\"\n",
      "    },\n",
      "    \"retries\": 0,\n",
      "    \"score\": 0.333,\n",
      "    \"scores\": {\n",
      "      \"best_models\": [\n",
      "        {\n",
      "          \"openai/gpt-3.5-turbo\": 0.333\n",
      "        },\n",
      "        {\n",
      "          \"mosaicml/llama2-70b-chat\": 0.316\n",
      "        }\n",
      "      ]\n",
      "    },\n",
      "    \"status_code\": 200,\n",
      "    \"temperature\": 1.0\n",
      "  },\n",
      "  \"model\": \"openai/gpt-3.5-turbo\",\n",
      "  \"object\": \"chat.completion\",\n",
      "  \"usage\": {\n",
      "    \"completion_tokens\": 9.0,\n",
      "    \"prompt_tokens\": 427.0,\n",
      "    \"total_tokens\": 436.0\n",
      "  }\n",
      "}\n"
     ]
    }
   ],
   "source": [
    "if __name__ == \"__main__\":\n",
    "    app.run(host=\"localhost\", port=8080)"
   ]
  }
 ],
 "metadata": {
  "kernelspec": {
   "display_name": "Python 3 (ipykernel)",
   "language": "python",
   "name": "python3"
  },
  "language_info": {
   "codemirror_mode": {
    "name": "ipython",
    "version": 3
   },
   "file_extension": ".py",
   "mimetype": "text/x-python",
   "name": "python",
   "nbconvert_exporter": "python",
   "pygments_lexer": "ipython3",
   "version": "3.10.9"
  }
 },
 "nbformat": 4,
 "nbformat_minor": 5
}
